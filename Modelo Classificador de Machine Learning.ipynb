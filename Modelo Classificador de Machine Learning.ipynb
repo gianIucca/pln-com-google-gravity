{
 "cells": [
  {
   "cell_type": "code",
   "execution_count": 1,
   "id": "62b0dc03",
   "metadata": {},
   "outputs": [],
   "source": [
    "import pandas as pd\n",
    "\n",
    "from sklearn.feature_extraction.text import TfidfVectorizer\n",
    "from sklearn import preprocessing \n",
    "from sklearn.ensemble import RandomForestClassifier\n",
    "\n",
    "import json\n",
    "\n",
    "import pickle"
   ]
  },
  {
   "cell_type": "code",
   "execution_count": 3,
   "id": "98d1edbb",
   "metadata": {},
   "outputs": [
    {
     "data": {
      "text/html": [
       "<div>\n",
       "<style scoped>\n",
       "    .dataframe tbody tr th:only-of-type {\n",
       "        vertical-align: middle;\n",
       "    }\n",
       "\n",
       "    .dataframe tbody tr th {\n",
       "        vertical-align: top;\n",
       "    }\n",
       "\n",
       "    .dataframe thead th {\n",
       "        text-align: right;\n",
       "    }\n",
       "</style>\n",
       "<table border=\"1\" class=\"dataframe\">\n",
       "  <thead>\n",
       "    <tr style=\"text-align: right;\">\n",
       "      <th></th>\n",
       "      <th>id</th>\n",
       "      <th>category</th>\n",
       "      <th>title</th>\n",
       "      <th>body</th>\n",
       "    </tr>\n",
       "  </thead>\n",
       "  <tbody>\n",
       "    <tr>\n",
       "      <th>0</th>\n",
       "      <td>5639</td>\n",
       "      <td>International_Finance</td>\n",
       "      <td>How Has Devaluation of the Yuan Impacted Globa...</td>\n",
       "      <td>How Has the Devaluation of the Yuan Impacted G...</td>\n",
       "    </tr>\n",
       "    <tr>\n",
       "      <th>1</th>\n",
       "      <td>2673</td>\n",
       "      <td>Earning_Reports</td>\n",
       "      <td>Qorvo® Announces Fiscal 2022 Third Quarter Fin...</td>\n",
       "      <td>GREENSBORO, N.C., Feb. 02, 2022 (GLOBE NEWSWIR...</td>\n",
       "    </tr>\n",
       "    <tr>\n",
       "      <th>2</th>\n",
       "      <td>2056</td>\n",
       "      <td>Commodities</td>\n",
       "      <td>Why Gatos Silver Stock Fell Another 15.5% at t...</td>\n",
       "      <td>Shares of Gatos Silver (NYSE:GATO) fell 15.5% ...</td>\n",
       "    </tr>\n",
       "    <tr>\n",
       "      <th>3</th>\n",
       "      <td>3455</td>\n",
       "      <td>Economy</td>\n",
       "      <td>Healthcare industry expects Budget 2022 to hik...</td>\n",
       "      <td>Healthcare industry expects Budget 2022 to hik...</td>\n",
       "    </tr>\n",
       "    <tr>\n",
       "      <th>4</th>\n",
       "      <td>4406</td>\n",
       "      <td>Fraud</td>\n",
       "      <td>American FX Fund CEO Sent to Jail for Running ...</td>\n",
       "      <td>The U.S Federal Bureau of Investigation (FBI) ...</td>\n",
       "    </tr>\n",
       "    <tr>\n",
       "      <th>...</th>\n",
       "      <td>...</td>\n",
       "      <td>...</td>\n",
       "      <td>...</td>\n",
       "      <td>...</td>\n",
       "    </tr>\n",
       "    <tr>\n",
       "      <th>8037</th>\n",
       "      <td>10024</td>\n",
       "      <td>Real_Estate</td>\n",
       "      <td>United Real Estate expands to Alabama with 2nd...</td>\n",
       "      <td>Dallas-based brokerage and franchisor United R...</td>\n",
       "    </tr>\n",
       "    <tr>\n",
       "      <th>8038</th>\n",
       "      <td>167</td>\n",
       "      <td>Capital</td>\n",
       "      <td>CTDOT Marks Transit Equity Day 2022 with Commi...</td>\n",
       "      <td>(Newington, CT) - The Connecticut Department o...</td>\n",
       "    </tr>\n",
       "    <tr>\n",
       "      <th>8039</th>\n",
       "      <td>2533</td>\n",
       "      <td>Earning_Reports</td>\n",
       "      <td>Lee Enterprises reports strong digital growth ...</td>\n",
       "      <td>Digital-only subscribers grew 57%; exceeds hal...</td>\n",
       "    </tr>\n",
       "    <tr>\n",
       "      <th>8040</th>\n",
       "      <td>5543</td>\n",
       "      <td>International_Finance</td>\n",
       "      <td>Fuel for Thought: Persian Gulf energy producer...</td>\n",
       "      <td>Geopolitics has jumped ahead of market fundame...</td>\n",
       "    </tr>\n",
       "    <tr>\n",
       "      <th>8041</th>\n",
       "      <td>2792</td>\n",
       "      <td>Earning_Reports</td>\n",
       "      <td>Tesla's entire year hinges on answering one bi...</td>\n",
       "      <td>Tesla reports second-quarter earnings on Wedne...</td>\n",
       "    </tr>\n",
       "  </tbody>\n",
       "</table>\n",
       "<p>8042 rows × 4 columns</p>\n",
       "</div>"
      ],
      "text/plain": [
       "         id               category  \\\n",
       "0      5639  International_Finance   \n",
       "1      2673        Earning_Reports   \n",
       "2      2056            Commodities   \n",
       "3      3455                Economy   \n",
       "4      4406                  Fraud   \n",
       "...     ...                    ...   \n",
       "8037  10024            Real_Estate   \n",
       "8038    167                Capital   \n",
       "8039   2533        Earning_Reports   \n",
       "8040   5543  International_Finance   \n",
       "8041   2792        Earning_Reports   \n",
       "\n",
       "                                                  title  \\\n",
       "0     How Has Devaluation of the Yuan Impacted Globa...   \n",
       "1     Qorvo® Announces Fiscal 2022 Third Quarter Fin...   \n",
       "2     Why Gatos Silver Stock Fell Another 15.5% at t...   \n",
       "3     Healthcare industry expects Budget 2022 to hik...   \n",
       "4     American FX Fund CEO Sent to Jail for Running ...   \n",
       "...                                                 ...   \n",
       "8037  United Real Estate expands to Alabama with 2nd...   \n",
       "8038  CTDOT Marks Transit Equity Day 2022 with Commi...   \n",
       "8039  Lee Enterprises reports strong digital growth ...   \n",
       "8040  Fuel for Thought: Persian Gulf energy producer...   \n",
       "8041  Tesla's entire year hinges on answering one bi...   \n",
       "\n",
       "                                                   body  \n",
       "0     How Has the Devaluation of the Yuan Impacted G...  \n",
       "1     GREENSBORO, N.C., Feb. 02, 2022 (GLOBE NEWSWIR...  \n",
       "2     Shares of Gatos Silver (NYSE:GATO) fell 15.5% ...  \n",
       "3     Healthcare industry expects Budget 2022 to hik...  \n",
       "4     The U.S Federal Bureau of Investigation (FBI) ...  \n",
       "...                                                 ...  \n",
       "8037  Dallas-based brokerage and franchisor United R...  \n",
       "8038  (Newington, CT) - The Connecticut Department o...  \n",
       "8039  Digital-only subscribers grew 57%; exceeds hal...  \n",
       "8040  Geopolitics has jumped ahead of market fundame...  \n",
       "8041  Tesla reports second-quarter earnings on Wedne...  \n",
       "\n",
       "[8042 rows x 4 columns]"
      ]
     },
     "metadata": {},
     "output_type": "display_data"
    }
   ],
   "source": [
    "df = pd.read_csv('CSV files/training_data.csv')\n",
    "display(df)"
   ]
  },
  {
   "cell_type": "code",
   "execution_count": 4,
   "id": "2a2c8aad",
   "metadata": {},
   "outputs": [
    {
     "data": {
      "text/plain": [
       "array(['International_Finance', 'Earning_Reports', 'Commodities',\n",
       "       'Economy', 'Fraud', 'Mergers_Acquisitions', 'Policy', 'Oil',\n",
       "       'Capital', 'Litigation', 'Real_Estate'], dtype=object)"
      ]
     },
     "execution_count": 4,
     "metadata": {},
     "output_type": "execute_result"
    }
   ],
   "source": [
    "df.category.unique()"
   ]
  },
  {
   "cell_type": "code",
   "execution_count": 5,
   "id": "f4fdbf08",
   "metadata": {},
   "outputs": [
    {
     "data": {
      "text/plain": [
       "array([ 5,  2,  1,  3,  4,  7,  9,  8,  0,  6, 10])"
      ]
     },
     "execution_count": 5,
     "metadata": {},
     "output_type": "execute_result"
    }
   ],
   "source": [
    "#Precisamos codificar as diferentes categorias para números\n",
    "label_encoder = preprocessing.LabelEncoder()\n",
    "label_encoder.fit(df['category'])\n",
    "df['label'] = label_encoder.transform(df['category'])\n",
    "\n",
    "#Verificando se foram construídas as colunas certas de label \n",
    "df.label.unique()"
   ]
  },
  {
   "cell_type": "code",
   "execution_count": 6,
   "id": "8ddd0fda",
   "metadata": {},
   "outputs": [],
   "source": [
    "#Também precisamos tokenizar as frases e transformar elas em lowercase \n",
    "vectorizer = TfidfVectorizer(stop_words='english', max_features=1000)\n",
    "\n",
    "#Pegando as features e o target certos do dataframe original\n",
    "x = df['body']\n",
    "y = df['label']\n",
    "\n",
    "#Vectorizando o body do dataframe original\n",
    "vectorized_x = vectorizer.fit_transform(x)\n",
    "\n",
    "#Treinando o modelo \n",
    "rf_clf = RandomForestClassifier()\n",
    "rf_clf.fit(vectorized_x, y)\n",
    "\n",
    "#Exportando os arquivos .pkl com o pickle \n",
    "pickle.dump(rf_clf, open('financial_text_classifier.pkl', 'wb'))\n",
    "pickle.dump(vectorizer, open('financial_text_vectorizer.pkl', 'wb'))\n",
    "pickle.dump(label_encoder, open('financial_text_encoder.pkl', 'wb'))"
   ]
  }
 ],
 "metadata": {
  "kernelspec": {
   "display_name": "Python 3",
   "language": "python",
   "name": "python3"
  },
  "language_info": {
   "codemirror_mode": {
    "name": "ipython",
    "version": 3
   },
   "file_extension": ".py",
   "mimetype": "text/x-python",
   "name": "python",
   "nbconvert_exporter": "python",
   "pygments_lexer": "ipython3",
   "version": "3.8.8"
  }
 },
 "nbformat": 4,
 "nbformat_minor": 5
}
